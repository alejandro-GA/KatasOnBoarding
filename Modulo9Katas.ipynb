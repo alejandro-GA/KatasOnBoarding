{
 "cells": [
  {
   "cell_type": "markdown",
   "metadata": {},
   "source": [
    "# Trabajar con argumentos en funciones "
   ]
  },
  {
   "cell_type": "code",
   "execution_count": 11,
   "metadata": {},
   "outputs": [
    {
     "name": "stdout",
     "output_type": "stream",
     "text": [
      "promedio de combustible: 43.333333333333336\n",
      " promedio 48.333333333333336 \n"
     ]
    }
   ],
   "source": [
    "def tanque_comb (primerTan, segundoTan, tercerTan):\n",
    "    promedio=(primerTan+segundoTan+tercerTan)/3\n",
    "    return f\"\"\"promedio de combustible: {promedio}\"\"\"\n",
    "\n",
    "print(tanque_comb(60,40,30))\n",
    "\n",
    "# promedio en otra función\n",
    "def promedio(valores):\n",
    "    total= sum(valores)\n",
    "    numero=len(valores)\n",
    "    return total/numero\n",
    "\n",
    "promedio([70,50,30])\n",
    "\n",
    "\n",
    "def tanque_comb (primerTan, segundoTan, tercerTan):\n",
    "   return f\"\"\" promedio {promedio([primerTan,segundoTan,tercerTan])} \"\"\"\n",
    "    \n",
    "print(tanque_comb(65,45,35))"
   ]
  },
  {
   "cell_type": "markdown",
   "metadata": {},
   "source": [
    "# Trabajar con argumentos de palabras clave en funciones "
   ]
  },
  {
   "cell_type": "code",
   "execution_count": 14,
   "metadata": {},
   "outputs": [
    {
     "name": "stdout",
     "output_type": "stream",
     "text": [
      "\n",
      "    Misión a la luna\n",
      "    Tiempo total del viaje: 65 minutos\n",
      "    Combustible disponible: 500000 galones\n",
      "    \n",
      "\n",
      "    Misión a la luna\n",
      "    Tiempo total de viaje: 76 minutes\n",
      "    Combustible disponible: 500000\n",
      "    \n",
      "\n",
      "    Misión a la luna\n",
      "    Tiempo total del viaje: 74 minutes\n",
      "    Combustible disponible: 500000\n",
      "    main tanque --> 300000 galones restantes\n",
      "external tanque --> 200000 galones restantes\n",
      "\n"
     ]
    }
   ],
   "source": [
    "def mission_report(pre_launch_time, flight_time, destination, external_tank, main_tank):\n",
    "    return f\"\"\"\n",
    "    Misión a la {destination}\n",
    "    Tiempo total del viaje: {pre_launch_time + flight_time} minutos\n",
    "    Combustible disponible: {external_tank + main_tank} galones\n",
    "    \"\"\"\n",
    "\n",
    "print(mission_report(14, 51, \"luna\", 200000, 300000))\n",
    "\n",
    "\n",
    "def mission_report(destination, *minutes, **fuel_reservoirs):\n",
    "    return f\"\"\"\n",
    "    Misión a la {destination}\n",
    "    Tiempo total de viaje: {sum(minutes)} minutes\n",
    "    Combustible disponible: {sum(fuel_reservoirs.values())}\n",
    "    \"\"\"\n",
    "\n",
    "print(mission_report(\"luna\", 10, 15, 51, main=300000, external=200000))\n",
    "\n",
    "\n",
    "def mission_report(destination, *minutes, **fuel_reservoirs):\n",
    "    main_report = f\"\"\"\n",
    "    Misión a la {destination}\n",
    "    Tiempo total del viaje: {sum(minutes)} minutes\n",
    "    Combustible disponible: {sum(fuel_reservoirs.values())}\n",
    "    \"\"\"\n",
    "    for tank_name, gallons in fuel_reservoirs.items():\n",
    "        main_report += f\"{tank_name} tanque --> {gallons} galones restantes\\n\"\n",
    "    return main_report\n",
    "\n",
    "print(mission_report(\"luna\", 8, 11, 55, main=300000, external=200000))"
   ]
  }
 ],
 "metadata": {
  "interpreter": {
   "hash": "23deae56e2a252df66a11886852f57f3c961fd15e48e5a30417426fe7fb911b7"
  },
  "kernelspec": {
   "display_name": "Python 3.10.2 64-bit",
   "language": "python",
   "name": "python3"
  },
  "language_info": {
   "codemirror_mode": {
    "name": "ipython",
    "version": 3
   },
   "file_extension": ".py",
   "mimetype": "text/x-python",
   "name": "python",
   "nbconvert_exporter": "python",
   "pygments_lexer": "ipython3",
   "version": "3.10.2"
  },
  "orig_nbformat": 4
 },
 "nbformat": 4,
 "nbformat_minor": 2
}
