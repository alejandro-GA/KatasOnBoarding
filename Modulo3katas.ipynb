{
 "cells": [
  {
   "cell_type": "markdown",
   "metadata": {},
   "source": [
    "#Para este ejercicio, escribirás una lógica condicional que imprima una advertencia si un asteroide se acerca a la Tierra demasiado rápido. La velocidad del asteroide varía dependiendo de lo cerca que esté del sol, y cualquier velocidad superior a 25 kilómetros por segundo (km/s) merece una advertencia."
   ]
  },
  {
   "cell_type": "code",
   "execution_count": 14,
   "metadata": {},
   "outputs": [
    {
     "name": "stdout",
     "output_type": "stream",
     "text": [
      "¡Advertencia peligro latente!\n"
     ]
    }
   ],
   "source": [
    "vAste=49\n",
    "advertencia=25\n",
    "if vAste > advertencia:\n",
    "    print('¡Advertencia peligro latente!')\n",
    "else:\n",
    "    print('Todo en orden')"
   ]
  },
  {
   "cell_type": "markdown",
   "metadata": {},
   "source": [
    "Si un asteroide entra en la atmósfera de la Tierra a una velocidad mayor o igual a 20 km/s, a veces produce un rayo de luz que se puede ver desde la Tierra. Escribe la lógica condicional que usa declaraciones if, else, y elif para alertar a las personas de todo el mundo que deben buscar un asteroide en el cielo. ¡Hay uno que se dirige a la tierra ahora a una velocidad de 19 km/s!"
   ]
  },
  {
   "cell_type": "code",
   "execution_count": 18,
   "metadata": {},
   "outputs": [
    {
     "name": "stdout",
     "output_type": "stream",
     "text": [
      "No se muestra nada, velocidad insuficiente\n"
     ]
    }
   ],
   "source": [
    "vAste=19\n",
    "if vAste > 20:\n",
    "    print(\"Se puede ver una luz en el cielo\")\n",
    "elif vAste == 20:\n",
    "    print(\"Se puede ver una luz en el cielo\")   \n",
    "else:\n",
    "    print(\"No se muestra nada, velocidad insuficiente\") "
   ]
  },
  {
   "cell_type": "markdown",
   "metadata": {},
   "source": [
    "Escribe un programa que emita la advertencia o información correcta a la gente de la Tierra, según la velocidad y el tamaño de un asteroide. Utiliza instrucciones if, else, y elif, así como los operadores and y or."
   ]
  },
  {
   "cell_type": "code",
   "execution_count": 20,
   "metadata": {},
   "outputs": [
    {
     "name": "stdout",
     "output_type": "stream",
     "text": [
      "Se puede ver una luz en el cielo\n"
     ]
    }
   ],
   "source": [
    "vAste = 25\n",
    "tAste = 40\n",
    "if vAste > 25 and tAste > 25:\n",
    "    print('¡Alerta peligro latente')\n",
    "elif vAste >= 20:\n",
    "    print('Se puede ver una luz en el cielo')\n",
    "elif tAste < 25:\n",
    "    print('No se muestra nada')\n",
    "else:\n",
    "    print('No se muestra nada')"
   ]
  }
 ],
 "metadata": {
  "interpreter": {
   "hash": "23deae56e2a252df66a11886852f57f3c961fd15e48e5a30417426fe7fb911b7"
  },
  "kernelspec": {
   "display_name": "Python 3.10.2 64-bit",
   "language": "python",
   "name": "python3"
  },
  "language_info": {
   "codemirror_mode": {
    "name": "ipython",
    "version": 3
   },
   "file_extension": ".py",
   "mimetype": "text/x-python",
   "name": "python",
   "nbconvert_exporter": "python",
   "pygments_lexer": "ipython3",
   "version": "3.10.2"
  },
  "orig_nbformat": 4
 },
 "nbformat": 4,
 "nbformat_minor": 2
}
