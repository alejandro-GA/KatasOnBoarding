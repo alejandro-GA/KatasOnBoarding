{
 "cells": [
  {
   "cell_type": "markdown",
   "metadata": {},
   "source": [
    "# Crear y usar listas"
   ]
  },
  {
   "cell_type": "code",
   "execution_count": 2,
   "metadata": {},
   "outputs": [
    {
     "name": "stdout",
     "output_type": "stream",
     "text": [
      "Existen 8 planetas\n",
      "Pluton el ultimo planeta\n"
     ]
    }
   ],
   "source": [
    "# Lista de planetas \n",
    "\n",
    "planetas = ['Mercurio','Venus','Tierra','Marte','Jupiter','Saturno','Uranus','Neptune']\n",
    "\n",
    "print('Existen', len(planetas),'planetas')\n",
    "\n",
    "planetas.append('Pluton')\n",
    "\n",
    "print(planetas[-1], 'el ultimo planeta')"
   ]
  },
  {
   "cell_type": "markdown",
   "metadata": {},
   "source": [
    "# Datos de una lista"
   ]
  },
  {
   "cell_type": "code",
   "execution_count": 6,
   "metadata": {},
   "outputs": [
    {
     "name": "stdout",
     "output_type": "stream",
     "text": [
      "planetas más cercanos al sol que Marte\n",
      "['Mercurio', 'Venus']\n",
      "planetas más lejanos al sol que Marte\n",
      "['Jupiter', 'Saturno', 'Neptuno']\n"
     ]
    }
   ],
   "source": [
    "planetas = ['Mercurio','Venus','Marte','Jupiter','Saturno','Neptuno']\n",
    "\n",
    "nom_pla=input('Introduzca el nombre del planeta ')\n",
    "\n",
    "pla_index=planetas.index(nom_pla)\n",
    "\n",
    "print('planetas más cercanos al sol que '+ nom_pla)\n",
    "print(planetas[0:pla_index])\n",
    "\n",
    "print('planetas más lejanos al sol que '+ nom_pla)\n",
    "print(planetas[pla_index + 1:])\n"
   ]
  }
 ],
 "metadata": {
  "interpreter": {
   "hash": "23deae56e2a252df66a11886852f57f3c961fd15e48e5a30417426fe7fb911b7"
  },
  "kernelspec": {
   "display_name": "Python 3.10.2 64-bit",
   "language": "python",
   "name": "python3"
  },
  "language_info": {
   "codemirror_mode": {
    "name": "ipython",
    "version": 3
   },
   "file_extension": ".py",
   "mimetype": "text/x-python",
   "name": "python",
   "nbconvert_exporter": "python",
   "pygments_lexer": "ipython3",
   "version": "3.10.2"
  },
  "orig_nbformat": 4
 },
 "nbformat": 4,
 "nbformat_minor": 2
}
