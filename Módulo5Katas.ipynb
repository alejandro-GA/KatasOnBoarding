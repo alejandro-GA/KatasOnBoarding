{
 "cells": [
  {
   "cell_type": "markdown",
   "metadata": {},
   "source": [
    "# Utilizar operadores aritméticos"
   ]
  },
  {
   "cell_type": "code",
   "execution_count": 6,
   "metadata": {},
   "outputs": [
    {
     "name": "stdout",
     "output_type": "stream",
     "text": [
      "628949330\n",
      "390577533.93\n"
     ]
    }
   ],
   "source": [
    "tierra=149597870\n",
    "jupiter=778547200\n",
    "\n",
    "# Distancia \n",
    "distancia=jupiter-tierra\n",
    "print(distancia)\n",
    "\n",
    "# Distancia millas \n",
    "\n",
    "distancia_m=distancia* 0.621\n",
    "print(distancia_m)"
   ]
  },
  {
   "cell_type": "markdown",
   "metadata": {},
   "source": [
    "# Convierte cadenas en números y usa valores absolutos"
   ]
  },
  {
   "cell_type": "code",
   "execution_count": 7,
   "metadata": {},
   "outputs": [],
   "source": [
    "planet1=input('Introduzca la distancia de el sol con el primer planeta')\n",
    "planet2=input('Introduzca la distancia de el sol con el segundo planeta')"
   ]
  },
  {
   "cell_type": "code",
   "execution_count": 8,
   "metadata": {},
   "outputs": [],
   "source": [
    "# convertir cadenas en números \n",
    "\n",
    "planet1=int(planet1)\n",
    "planet2=int(planet2)\n"
   ]
  },
  {
   "cell_type": "code",
   "execution_count": 9,
   "metadata": {},
   "outputs": [
    {
     "name": "stdout",
     "output_type": "stream",
     "text": [
      "4267200000\n",
      "2649931200.0\n"
     ]
    }
   ],
   "source": [
    "# cálculo\n",
    "\n",
    "distancia= planet2 - planet1\n",
    "print(distancia)\n",
    "\n",
    "distancia_m=distancia * 0.621\n",
    "print(abs(distancia_m))"
   ]
  }
 ],
 "metadata": {
  "interpreter": {
   "hash": "23deae56e2a252df66a11886852f57f3c961fd15e48e5a30417426fe7fb911b7"
  },
  "kernelspec": {
   "display_name": "Python 3.10.2 64-bit",
   "language": "python",
   "name": "python3"
  },
  "language_info": {
   "codemirror_mode": {
    "name": "ipython",
    "version": 3
   },
   "file_extension": ".py",
   "mimetype": "text/x-python",
   "name": "python",
   "nbconvert_exporter": "python",
   "pygments_lexer": "ipython3",
   "version": "3.10.2"
  },
  "orig_nbformat": 4
 },
 "nbformat": 4,
 "nbformat_minor": 2
}
